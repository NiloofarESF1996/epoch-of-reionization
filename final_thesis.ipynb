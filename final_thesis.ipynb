{
  "cells": [
    {
      "cell_type": "markdown",
      "metadata": {
        "id": "RsxfepBXLqa9"
      },
      "source": [
        "## Dataset"
      ]
    },
    {
      "cell_type": "code",
      "execution_count": null,
      "metadata": {
        "colab": {
          "base_uri": "https://localhost:8080/"
        },
        "id": "INz093kRdpsZ",
        "outputId": "6f07a815-92c3-4461-99a1-8a1ec0fcb8bb"
      },
      "outputs": [
        {
          "output_type": "stream",
          "name": "stdout",
          "text": [
            "Requirement already satisfied: torchvision in /usr/local/lib/python3.10/dist-packages (0.18.1+cu121)\n",
            "Requirement already satisfied: numpy in /usr/local/lib/python3.10/dist-packages (from torchvision) (1.26.4)\n",
            "Requirement already satisfied: torch==2.3.1 in /usr/local/lib/python3.10/dist-packages (from torchvision) (2.3.1+cu121)\n",
            "Requirement already satisfied: pillow!=8.3.*,>=5.3.0 in /usr/local/lib/python3.10/dist-packages (from torchvision) (9.4.0)\n",
            "Requirement already satisfied: filelock in /usr/local/lib/python3.10/dist-packages (from torch==2.3.1->torchvision) (3.15.4)\n",
            "Requirement already satisfied: typing-extensions>=4.8.0 in /usr/local/lib/python3.10/dist-packages (from torch==2.3.1->torchvision) (4.12.2)\n",
            "Requirement already satisfied: sympy in /usr/local/lib/python3.10/dist-packages (from torch==2.3.1->torchvision) (1.13.1)\n",
            "Requirement already satisfied: networkx in /usr/local/lib/python3.10/dist-packages (from torch==2.3.1->torchvision) (3.3)\n",
            "Requirement already satisfied: jinja2 in /usr/local/lib/python3.10/dist-packages (from torch==2.3.1->torchvision) (3.1.4)\n",
            "Requirement already satisfied: fsspec in /usr/local/lib/python3.10/dist-packages (from torch==2.3.1->torchvision) (2024.6.1)\n",
            "Collecting nvidia-cuda-nvrtc-cu12==12.1.105 (from torch==2.3.1->torchvision)\n",
            "  Using cached nvidia_cuda_nvrtc_cu12-12.1.105-py3-none-manylinux1_x86_64.whl.metadata (1.5 kB)\n",
            "Collecting nvidia-cuda-runtime-cu12==12.1.105 (from torch==2.3.1->torchvision)\n",
            "  Using cached nvidia_cuda_runtime_cu12-12.1.105-py3-none-manylinux1_x86_64.whl.metadata (1.5 kB)\n",
            "Collecting nvidia-cuda-cupti-cu12==12.1.105 (from torch==2.3.1->torchvision)\n",
            "  Using cached nvidia_cuda_cupti_cu12-12.1.105-py3-none-manylinux1_x86_64.whl.metadata (1.6 kB)\n",
            "Collecting nvidia-cudnn-cu12==8.9.2.26 (from torch==2.3.1->torchvision)\n",
            "  Using cached nvidia_cudnn_cu12-8.9.2.26-py3-none-manylinux1_x86_64.whl.metadata (1.6 kB)\n",
            "Collecting nvidia-cublas-cu12==12.1.3.1 (from torch==2.3.1->torchvision)\n",
            "  Using cached nvidia_cublas_cu12-12.1.3.1-py3-none-manylinux1_x86_64.whl.metadata (1.5 kB)\n",
            "Collecting nvidia-cufft-cu12==11.0.2.54 (from torch==2.3.1->torchvision)\n",
            "  Using cached nvidia_cufft_cu12-11.0.2.54-py3-none-manylinux1_x86_64.whl.metadata (1.5 kB)\n",
            "Collecting nvidia-curand-cu12==10.3.2.106 (from torch==2.3.1->torchvision)\n",
            "  Using cached nvidia_curand_cu12-10.3.2.106-py3-none-manylinux1_x86_64.whl.metadata (1.5 kB)\n",
            "Collecting nvidia-cusolver-cu12==11.4.5.107 (from torch==2.3.1->torchvision)\n",
            "  Using cached nvidia_cusolver_cu12-11.4.5.107-py3-none-manylinux1_x86_64.whl.metadata (1.6 kB)\n",
            "Collecting nvidia-cusparse-cu12==12.1.0.106 (from torch==2.3.1->torchvision)\n",
            "  Using cached nvidia_cusparse_cu12-12.1.0.106-py3-none-manylinux1_x86_64.whl.metadata (1.6 kB)\n",
            "Collecting nvidia-nccl-cu12==2.20.5 (from torch==2.3.1->torchvision)\n",
            "  Using cached nvidia_nccl_cu12-2.20.5-py3-none-manylinux2014_x86_64.whl.metadata (1.8 kB)\n",
            "Collecting nvidia-nvtx-cu12==12.1.105 (from torch==2.3.1->torchvision)\n",
            "  Using cached nvidia_nvtx_cu12-12.1.105-py3-none-manylinux1_x86_64.whl.metadata (1.7 kB)\n",
            "Requirement already satisfied: triton==2.3.1 in /usr/local/lib/python3.10/dist-packages (from torch==2.3.1->torchvision) (2.3.1)\n",
            "Collecting nvidia-nvjitlink-cu12 (from nvidia-cusolver-cu12==11.4.5.107->torch==2.3.1->torchvision)\n",
            "  Using cached nvidia_nvjitlink_cu12-12.6.20-py3-none-manylinux2014_x86_64.whl.metadata (1.5 kB)\n",
            "Requirement already satisfied: MarkupSafe>=2.0 in /usr/local/lib/python3.10/dist-packages (from jinja2->torch==2.3.1->torchvision) (2.1.5)\n",
            "Requirement already satisfied: mpmath<1.4,>=1.1.0 in /usr/local/lib/python3.10/dist-packages (from sympy->torch==2.3.1->torchvision) (1.3.0)\n",
            "Using cached nvidia_cublas_cu12-12.1.3.1-py3-none-manylinux1_x86_64.whl (410.6 MB)\n",
            "Using cached nvidia_cuda_cupti_cu12-12.1.105-py3-none-manylinux1_x86_64.whl (14.1 MB)\n",
            "Using cached nvidia_cuda_nvrtc_cu12-12.1.105-py3-none-manylinux1_x86_64.whl (23.7 MB)\n",
            "Using cached nvidia_cuda_runtime_cu12-12.1.105-py3-none-manylinux1_x86_64.whl (823 kB)\n",
            "Using cached nvidia_cudnn_cu12-8.9.2.26-py3-none-manylinux1_x86_64.whl (731.7 MB)\n",
            "Using cached nvidia_cufft_cu12-11.0.2.54-py3-none-manylinux1_x86_64.whl (121.6 MB)\n",
            "Using cached nvidia_curand_cu12-10.3.2.106-py3-none-manylinux1_x86_64.whl (56.5 MB)\n",
            "Using cached nvidia_cusolver_cu12-11.4.5.107-py3-none-manylinux1_x86_64.whl (124.2 MB)\n",
            "Using cached nvidia_cusparse_cu12-12.1.0.106-py3-none-manylinux1_x86_64.whl (196.0 MB)\n",
            "Using cached nvidia_nccl_cu12-2.20.5-py3-none-manylinux2014_x86_64.whl (176.2 MB)\n",
            "Using cached nvidia_nvtx_cu12-12.1.105-py3-none-manylinux1_x86_64.whl (99 kB)\n",
            "Using cached nvidia_nvjitlink_cu12-12.6.20-py3-none-manylinux2014_x86_64.whl (19.7 MB)\n",
            "Installing collected packages: nvidia-nvtx-cu12, nvidia-nvjitlink-cu12, nvidia-nccl-cu12, nvidia-curand-cu12, nvidia-cufft-cu12, nvidia-cuda-runtime-cu12, nvidia-cuda-nvrtc-cu12, nvidia-cuda-cupti-cu12, nvidia-cublas-cu12, nvidia-cusparse-cu12, nvidia-cudnn-cu12, nvidia-cusolver-cu12\n",
            "Successfully installed nvidia-cublas-cu12-12.1.3.1 nvidia-cuda-cupti-cu12-12.1.105 nvidia-cuda-nvrtc-cu12-12.1.105 nvidia-cuda-runtime-cu12-12.1.105 nvidia-cudnn-cu12-8.9.2.26 nvidia-cufft-cu12-11.0.2.54 nvidia-curand-cu12-10.3.2.106 nvidia-cusolver-cu12-11.4.5.107 nvidia-cusparse-cu12-12.1.0.106 nvidia-nccl-cu12-2.20.5 nvidia-nvjitlink-cu12-12.6.20 nvidia-nvtx-cu12-12.1.105\n",
            "Collecting tools21cm\n",
            "  Downloading tools21cm-2.1.13.tar.gz (53.8 MB)\n",
            "\u001b[2K     \u001b[90m━━━━━━━━━━━━━━━━━━━━━━━━━━━━━━━━━━━━━━━━\u001b[0m \u001b[32m53.8/53.8 MB\u001b[0m \u001b[31m11.1 MB/s\u001b[0m eta \u001b[36m0:00:00\u001b[0m\n",
            "\u001b[?25h  Preparing metadata (setup.py) ... \u001b[?25l\u001b[?25hdone\n",
            "Requirement already satisfied: numpy in /usr/local/lib/python3.10/dist-packages (from tools21cm) (1.26.4)\n",
            "Requirement already satisfied: scipy in /usr/local/lib/python3.10/dist-packages (from tools21cm) (1.13.1)\n",
            "Requirement already satisfied: matplotlib in /usr/local/lib/python3.10/dist-packages (from tools21cm) (3.7.1)\n",
            "Requirement already satisfied: astropy in /usr/local/lib/python3.10/dist-packages (from tools21cm) (6.1.2)\n",
            "Requirement already satisfied: scikit-learn in /usr/local/lib/python3.10/dist-packages (from tools21cm) (1.3.2)\n",
            "Requirement already satisfied: scikit-image in /usr/local/lib/python3.10/dist-packages (from tools21cm) (0.23.2)\n",
            "Requirement already satisfied: tqdm in /usr/local/lib/python3.10/dist-packages (from tools21cm) (4.66.5)\n",
            "Requirement already satisfied: joblib in /usr/local/lib/python3.10/dist-packages (from tools21cm) (1.4.2)\n",
            "Requirement already satisfied: pandas in /usr/local/lib/python3.10/dist-packages (from tools21cm) (2.1.4)\n",
            "Requirement already satisfied: pytest in /usr/local/lib/python3.10/dist-packages (from tools21cm) (7.4.4)\n",
            "Requirement already satisfied: cython in /usr/local/lib/python3.10/dist-packages (from tools21cm) (3.0.11)\n",
            "Requirement already satisfied: pyerfa>=2.0.1.1 in /usr/local/lib/python3.10/dist-packages (from astropy->tools21cm) (2.0.1.4)\n",
            "Requirement already satisfied: astropy-iers-data>=0.2024.7.1.0.34.3 in /usr/local/lib/python3.10/dist-packages (from astropy->tools21cm) (0.2024.8.5.0.32.23)\n",
            "Requirement already satisfied: PyYAML>=3.13 in /usr/local/lib/python3.10/dist-packages (from astropy->tools21cm) (6.0.2)\n",
            "Requirement already satisfied: packaging>=19.0 in /usr/local/lib/python3.10/dist-packages (from astropy->tools21cm) (24.1)\n",
            "Requirement already satisfied: contourpy>=1.0.1 in /usr/local/lib/python3.10/dist-packages (from matplotlib->tools21cm) (1.2.1)\n",
            "Requirement already satisfied: cycler>=0.10 in /usr/local/lib/python3.10/dist-packages (from matplotlib->tools21cm) (0.12.1)\n",
            "Requirement already satisfied: fonttools>=4.22.0 in /usr/local/lib/python3.10/dist-packages (from matplotlib->tools21cm) (4.53.1)\n",
            "Requirement already satisfied: kiwisolver>=1.0.1 in /usr/local/lib/python3.10/dist-packages (from matplotlib->tools21cm) (1.4.5)\n",
            "Requirement already satisfied: pillow>=6.2.0 in /usr/local/lib/python3.10/dist-packages (from matplotlib->tools21cm) (9.4.0)\n",
            "Requirement already satisfied: pyparsing>=2.3.1 in /usr/local/lib/python3.10/dist-packages (from matplotlib->tools21cm) (3.1.2)\n",
            "Requirement already satisfied: python-dateutil>=2.7 in /usr/local/lib/python3.10/dist-packages (from matplotlib->tools21cm) (2.8.2)\n",
            "Requirement already satisfied: pytz>=2020.1 in /usr/local/lib/python3.10/dist-packages (from pandas->tools21cm) (2024.1)\n",
            "Requirement already satisfied: tzdata>=2022.1 in /usr/local/lib/python3.10/dist-packages (from pandas->tools21cm) (2024.1)\n",
            "Requirement already satisfied: iniconfig in /usr/local/lib/python3.10/dist-packages (from pytest->tools21cm) (2.0.0)\n",
            "Requirement already satisfied: pluggy<2.0,>=0.12 in /usr/local/lib/python3.10/dist-packages (from pytest->tools21cm) (1.5.0)\n",
            "Requirement already satisfied: exceptiongroup>=1.0.0rc8 in /usr/local/lib/python3.10/dist-packages (from pytest->tools21cm) (1.2.2)\n",
            "Requirement already satisfied: tomli>=1.0.0 in /usr/local/lib/python3.10/dist-packages (from pytest->tools21cm) (2.0.1)\n",
            "Requirement already satisfied: networkx>=2.8 in /usr/local/lib/python3.10/dist-packages (from scikit-image->tools21cm) (3.3)\n",
            "Requirement already satisfied: imageio>=2.33 in /usr/local/lib/python3.10/dist-packages (from scikit-image->tools21cm) (2.34.2)\n",
            "Requirement already satisfied: tifffile>=2022.8.12 in /usr/local/lib/python3.10/dist-packages (from scikit-image->tools21cm) (2024.7.24)\n",
            "Requirement already satisfied: lazy-loader>=0.4 in /usr/local/lib/python3.10/dist-packages (from scikit-image->tools21cm) (0.4)\n",
            "Requirement already satisfied: threadpoolctl>=2.0.0 in /usr/local/lib/python3.10/dist-packages (from scikit-learn->tools21cm) (3.5.0)\n",
            "Requirement already satisfied: six>=1.5 in /usr/local/lib/python3.10/dist-packages (from python-dateutil>=2.7->matplotlib->tools21cm) (1.16.0)\n",
            "Building wheels for collected packages: tools21cm\n",
            "  Building wheel for tools21cm (setup.py) ... \u001b[?25l\u001b[?25hdone\n",
            "  Created wheel for tools21cm: filename=tools21cm-2.1.13-cp310-cp310-linux_x86_64.whl size=53973933 sha256=8a52ae148c933c8e546610ad488fe42b990ac437a360b0067b21f9af7519dfc8\n",
            "  Stored in directory: /root/.cache/pip/wheels/16/b3/26/7296152f72e131cf61b3c8c2d99d47b82922c465592516664a\n",
            "Successfully built tools21cm\n",
            "Installing collected packages: tools21cm\n",
            "Successfully installed tools21cm-2.1.13\n",
            "Collecting torchmetrics\n",
            "  Downloading torchmetrics-1.4.1-py3-none-any.whl.metadata (20 kB)\n",
            "Requirement already satisfied: numpy>1.20.0 in /usr/local/lib/python3.10/dist-packages (from torchmetrics) (1.26.4)\n",
            "Requirement already satisfied: packaging>17.1 in /usr/local/lib/python3.10/dist-packages (from torchmetrics) (24.1)\n",
            "Requirement already satisfied: torch>=1.10.0 in /usr/local/lib/python3.10/dist-packages (from torchmetrics) (2.3.1+cu121)\n",
            "Collecting lightning-utilities>=0.8.0 (from torchmetrics)\n",
            "  Downloading lightning_utilities-0.11.6-py3-none-any.whl.metadata (5.2 kB)\n",
            "Requirement already satisfied: setuptools in /usr/local/lib/python3.10/dist-packages (from lightning-utilities>=0.8.0->torchmetrics) (71.0.4)\n",
            "Requirement already satisfied: typing-extensions in /usr/local/lib/python3.10/dist-packages (from lightning-utilities>=0.8.0->torchmetrics) (4.12.2)\n",
            "Requirement already satisfied: filelock in /usr/local/lib/python3.10/dist-packages (from torch>=1.10.0->torchmetrics) (3.15.4)\n",
            "Requirement already satisfied: sympy in /usr/local/lib/python3.10/dist-packages (from torch>=1.10.0->torchmetrics) (1.13.1)\n",
            "Requirement already satisfied: networkx in /usr/local/lib/python3.10/dist-packages (from torch>=1.10.0->torchmetrics) (3.3)\n",
            "Requirement already satisfied: jinja2 in /usr/local/lib/python3.10/dist-packages (from torch>=1.10.0->torchmetrics) (3.1.4)\n",
            "Requirement already satisfied: fsspec in /usr/local/lib/python3.10/dist-packages (from torch>=1.10.0->torchmetrics) (2024.6.1)\n",
            "Requirement already satisfied: nvidia-cuda-nvrtc-cu12==12.1.105 in /usr/local/lib/python3.10/dist-packages (from torch>=1.10.0->torchmetrics) (12.1.105)\n",
            "Requirement already satisfied: nvidia-cuda-runtime-cu12==12.1.105 in /usr/local/lib/python3.10/dist-packages (from torch>=1.10.0->torchmetrics) (12.1.105)\n",
            "Requirement already satisfied: nvidia-cuda-cupti-cu12==12.1.105 in /usr/local/lib/python3.10/dist-packages (from torch>=1.10.0->torchmetrics) (12.1.105)\n",
            "Requirement already satisfied: nvidia-cudnn-cu12==8.9.2.26 in /usr/local/lib/python3.10/dist-packages (from torch>=1.10.0->torchmetrics) (8.9.2.26)\n",
            "Requirement already satisfied: nvidia-cublas-cu12==12.1.3.1 in /usr/local/lib/python3.10/dist-packages (from torch>=1.10.0->torchmetrics) (12.1.3.1)\n",
            "Requirement already satisfied: nvidia-cufft-cu12==11.0.2.54 in /usr/local/lib/python3.10/dist-packages (from torch>=1.10.0->torchmetrics) (11.0.2.54)\n",
            "Requirement already satisfied: nvidia-curand-cu12==10.3.2.106 in /usr/local/lib/python3.10/dist-packages (from torch>=1.10.0->torchmetrics) (10.3.2.106)\n",
            "Requirement already satisfied: nvidia-cusolver-cu12==11.4.5.107 in /usr/local/lib/python3.10/dist-packages (from torch>=1.10.0->torchmetrics) (11.4.5.107)\n",
            "Requirement already satisfied: nvidia-cusparse-cu12==12.1.0.106 in /usr/local/lib/python3.10/dist-packages (from torch>=1.10.0->torchmetrics) (12.1.0.106)\n",
            "Requirement already satisfied: nvidia-nccl-cu12==2.20.5 in /usr/local/lib/python3.10/dist-packages (from torch>=1.10.0->torchmetrics) (2.20.5)\n",
            "Requirement already satisfied: nvidia-nvtx-cu12==12.1.105 in /usr/local/lib/python3.10/dist-packages (from torch>=1.10.0->torchmetrics) (12.1.105)\n",
            "Requirement already satisfied: triton==2.3.1 in /usr/local/lib/python3.10/dist-packages (from torch>=1.10.0->torchmetrics) (2.3.1)\n",
            "Requirement already satisfied: nvidia-nvjitlink-cu12 in /usr/local/lib/python3.10/dist-packages (from nvidia-cusolver-cu12==11.4.5.107->torch>=1.10.0->torchmetrics) (12.6.20)\n",
            "Requirement already satisfied: MarkupSafe>=2.0 in /usr/local/lib/python3.10/dist-packages (from jinja2->torch>=1.10.0->torchmetrics) (2.1.5)\n",
            "Requirement already satisfied: mpmath<1.4,>=1.1.0 in /usr/local/lib/python3.10/dist-packages (from sympy->torch>=1.10.0->torchmetrics) (1.3.0)\n",
            "Downloading torchmetrics-1.4.1-py3-none-any.whl (866 kB)\n",
            "\u001b[2K   \u001b[90m━━━━━━━━━━━━━━━━━━━━━━━━━━━━━━━━━━━━━━━━\u001b[0m \u001b[32m866.2/866.2 kB\u001b[0m \u001b[31m32.7 MB/s\u001b[0m eta \u001b[36m0:00:00\u001b[0m\n",
            "\u001b[?25hDownloading lightning_utilities-0.11.6-py3-none-any.whl (26 kB)\n",
            "Installing collected packages: lightning-utilities, torchmetrics\n",
            "Successfully installed lightning-utilities-0.11.6 torchmetrics-1.4.1\n"
          ]
        }
      ],
      "source": [
        "!pip install torchvision\n",
        "!pip install tools21cm\n",
        "!pip install torchmetrics"
      ]
    },
    {
      "cell_type": "code",
      "execution_count": null,
      "metadata": {
        "id": "VopND0F7LxEY",
        "colab": {
          "base_uri": "https://localhost:8080/",
          "height": 359
        },
        "outputId": "9e202720-8860-4f24-c95c-f885fc94b836"
      },
      "outputs": [
        {
          "output_type": "error",
          "ename": "KeyboardInterrupt",
          "evalue": "",
          "traceback": [
            "\u001b[0;31m---------------------------------------------------------------------------\u001b[0m",
            "\u001b[0;31mKeyboardInterrupt\u001b[0m                         Traceback (most recent call last)",
            "\u001b[0;32m<ipython-input-1-60563114a1ff>\u001b[0m in \u001b[0;36m<cell line: 3>\u001b[0;34m()\u001b[0m\n\u001b[1;32m      1\u001b[0m \u001b[0;32mfrom\u001b[0m \u001b[0mPIL\u001b[0m \u001b[0;32mimport\u001b[0m \u001b[0mImage\u001b[0m\u001b[0;34m,\u001b[0m \u001b[0mImageOps\u001b[0m\u001b[0;34m,\u001b[0m \u001b[0mImageFilter\u001b[0m\u001b[0;34m\u001b[0m\u001b[0;34m\u001b[0m\u001b[0m\n\u001b[1;32m      2\u001b[0m \u001b[0;32mfrom\u001b[0m \u001b[0mgoogle\u001b[0m\u001b[0;34m.\u001b[0m\u001b[0mcolab\u001b[0m\u001b[0;34m.\u001b[0m\u001b[0mpatches\u001b[0m \u001b[0;32mimport\u001b[0m \u001b[0mcv2_imshow\u001b[0m\u001b[0;34m\u001b[0m\u001b[0;34m\u001b[0m\u001b[0m\n\u001b[0;32m----> 3\u001b[0;31m \u001b[0;32mfrom\u001b[0m \u001b[0mtorch\u001b[0m\u001b[0;34m.\u001b[0m\u001b[0mutils\u001b[0m\u001b[0;34m.\u001b[0m\u001b[0mdata\u001b[0m \u001b[0;32mimport\u001b[0m \u001b[0mrandom_split\u001b[0m\u001b[0;34m\u001b[0m\u001b[0;34m\u001b[0m\u001b[0m\n\u001b[0m\u001b[1;32m      4\u001b[0m \u001b[0;32mfrom\u001b[0m \u001b[0mtorch\u001b[0m\u001b[0;34m.\u001b[0m\u001b[0mutils\u001b[0m\u001b[0;34m.\u001b[0m\u001b[0mdata\u001b[0m \u001b[0;32mimport\u001b[0m \u001b[0mDataLoader\u001b[0m\u001b[0;34m\u001b[0m\u001b[0;34m\u001b[0m\u001b[0m\n\u001b[1;32m      5\u001b[0m \u001b[0;32mfrom\u001b[0m \u001b[0mtorchvision\u001b[0m\u001b[0;34m.\u001b[0m\u001b[0mtransforms\u001b[0m \u001b[0;32mimport\u001b[0m \u001b[0mv2\u001b[0m\u001b[0;34m\u001b[0m\u001b[0;34m\u001b[0m\u001b[0m\n",
            "\u001b[0;32m/usr/local/lib/python3.10/dist-packages/torch/__init__.py\u001b[0m in \u001b[0;36m<module>\u001b[0;34m\u001b[0m\n\u001b[1;32m    237\u001b[0m     \u001b[0;32mif\u001b[0m \u001b[0mUSE_GLOBAL_DEPS\u001b[0m\u001b[0;34m:\u001b[0m\u001b[0;34m\u001b[0m\u001b[0;34m\u001b[0m\u001b[0m\n\u001b[1;32m    238\u001b[0m         \u001b[0m_load_global_deps\u001b[0m\u001b[0;34m(\u001b[0m\u001b[0;34m)\u001b[0m\u001b[0;34m\u001b[0m\u001b[0;34m\u001b[0m\u001b[0m\n\u001b[0;32m--> 239\u001b[0;31m     \u001b[0;32mfrom\u001b[0m \u001b[0mtorch\u001b[0m\u001b[0;34m.\u001b[0m\u001b[0m_C\u001b[0m \u001b[0;32mimport\u001b[0m \u001b[0;34m*\u001b[0m  \u001b[0;31m# noqa: F403\u001b[0m\u001b[0;34m\u001b[0m\u001b[0;34m\u001b[0m\u001b[0m\n\u001b[0m\u001b[1;32m    240\u001b[0m \u001b[0;34m\u001b[0m\u001b[0m\n\u001b[1;32m    241\u001b[0m \u001b[0;31m# Appease the type checker; ordinarily this binding is inserted by the\u001b[0m\u001b[0;34m\u001b[0m\u001b[0;34m\u001b[0m\u001b[0m\n",
            "\u001b[0;31mKeyboardInterrupt\u001b[0m: "
          ]
        }
      ],
      "source": [
        "from PIL import Image, ImageOps, ImageFilter\n",
        "from google.colab.patches import cv2_imshow\n",
        "from torch.utils.data import random_split\n",
        "from torch.utils.data import DataLoader\n",
        "from torchvision.transforms import v2\n",
        "from torch.utils.data import Dataset\n",
        "import toarch.nn.functional as F\n",
        "import matplotlib.colors as colors\n",
        "import matplotlib.pyplot as plt\n",
        "from torch import optim, Tensor\n",
        "import torch.nn as nn\n",
        "from tqdm import tqdm\n",
        "import torchmetrics\n",
        "import numpy as np\n",
        "import torchvision\n",
        "import random\n",
        "import torch\n",
        "import cv2\n",
        "import os"
      ]
    },
    {
      "cell_type": "code",
      "execution_count": null,
      "metadata": {
        "colab": {
          "base_uri": "https://localhost:8080/"
        },
        "id": "6THt1k7UMMdP",
        "outputId": "497b0528-9b46-41b1-a0ff-2c8bcee1fd70"
      },
      "outputs": [
        {
          "output_type": "stream",
          "name": "stdout",
          "text": [
            "Mounted at /content/drive\n"
          ]
        }
      ],
      "source": [
        "from google.colab import drive\n",
        "drive.mount('/content/drive')"
      ]
    },
    {
      "cell_type": "code",
      "execution_count": null,
      "metadata": {
        "id": "kyYcxfVwMBCK"
      },
      "outputs": [],
      "source": [
        "dataset_dir = \"/content/drive/MyDrive/data/data/dataset/\""
      ]
    },
    {
      "cell_type": "code",
      "execution_count": null,
      "metadata": {
        "id": "aJuu6QtvMDZR"
      },
      "outputs": [],
      "source": [
        "class HaloDataSet(Dataset):\n",
        "    def __init__(self, dataset_dir, mode='train'):\n",
        "        if mode not in ['train', 'test', 'validation']:\n",
        "              raise ValueError(\"Mode must be 'train', 'test', or 'validation'.\")\n",
        "\n",
        "        self.root = dataset_dir\n",
        "\n",
        "        self.halo_samples_dir = os.path.join(self.root, mode,'halo_slices')\n",
        "        self.density_samples_dir = os.path.join(self.root, mode,'t21cm_slices')\n",
        "        self.density_samples = os.listdir(self.density_samples_dir)\n",
        "        self.halo_samples = os.listdir(self.halo_samples_dir)\n",
        "\n",
        "        self.transforms = v2.Compose([\n",
        "        v2.Resize((336, 336)),\n",
        "        v2.ToTensor(),\n",
        "        v2.Normalize(mean=[0.485, 0.456, 0.406], std=[0.229, 0.224, 0.225])\n",
        "        ])\n",
        "\n",
        "\n",
        "    def _load_image(self, path):\n",
        "        with open(path, 'rb') as f:\n",
        "            img = Image.open(f)\n",
        "            return img.convert('RGB')\n",
        "\n",
        "    def __getitem__(self, index, add_noise=True):\n",
        "\n",
        "        density_sample = cv2.imread(os.path.join(self.density_samples_dir, self.density_samples[index]))\n",
        "        density_sample = cv2.resize(density_sample, (336, 336))\n",
        "\n",
        "        halo_sample = cv2.imread(os.path.join(self.halo_samples_dir, self.halo_samples[index]))\n",
        "        halo_sample = cv2.cvtColor(halo_sample, cv2.COLOR_BGR2GRAY)\n",
        "\n",
        "        label = self.process_labels(halo_sample)\n",
        "        density_sample = self.transforms(density_sample)\n",
        "\n",
        "        return density_sample, torch.from_numpy(label).long()\n",
        "\n",
        "    def process_labels(self, gray):\n",
        "\n",
        "      gray = cv2.resize(gray, (336, 336))\n",
        "      blurred = cv2.GaussianBlur(gray, (3, 3), 0)\n",
        "\n",
        "      _, binary = cv2.threshold(blurred, blurred.mean(), 255, cv2.THRESH_BINARY)\n",
        "\n",
        "      kernel = np.ones((3,3), np.uint8)\n",
        "      dilated = cv2.dilate(binary, kernel, iterations=1)\n",
        "\n",
        "      contours, _ = cv2.findContours(dilated, cv2.RETR_EXTERNAL, cv2.CHAIN_APPROX_SIMPLE)\n",
        "\n",
        "      areas = [cv2.contourArea(contour) for contour in contours]\n",
        "      average_area = sum(areas) / len(areas) if areas else 0\n",
        "\n",
        "      high_posibility_masses = np.zeros_like(gray)\n",
        "      low_posibility_masses = np.zeros_like(gray)\n",
        "\n",
        "      for contour in contours:\n",
        "          if  cv2.contourArea(contour) > average_area + (max(areas) - min(areas)) / 4:\n",
        "              cv2.drawContours(high_posibility_masses, [contour], -1, 255, thickness=cv2.FILLED)\n",
        "          elif  average_area < cv2.contourArea(contour) < average_area + (max(areas) - min(areas)) / 4:\n",
        "              cv2.drawContours(low_posibility_masses, [contour], -1, 255, thickness=cv2.FILLED)\n",
        "\n",
        "      label = np.ones((2, 336, 336))\n",
        "      label[0] = low_posibility_masses * 1\n",
        "      label[1] = high_posibility_masses * 1\n",
        "      return label\n",
        "\n",
        "    def __len__(self):\n",
        "        return len(self.density_samples)"
      ]
    },
    {
      "cell_type": "code",
      "execution_count": null,
      "metadata": {
        "colab": {
          "base_uri": "https://localhost:8080/",
          "height": 484
        },
        "id": "Y0OoIwpzMY2I",
        "outputId": "20e39082-53ce-402c-d32b-c14b748daa0c"
      },
      "outputs": [
        {
          "output_type": "stream",
          "name": "stderr",
          "text": [
            "/usr/local/lib/python3.10/dist-packages/torchvision/transforms/v2/_deprecated.py:42: UserWarning: The transform `ToTensor()` is deprecated and will be removed in a future release. Instead, please use `v2.Compose([v2.ToImage(), v2.ToDtype(torch.float32, scale=True)])`.Output is equivalent up to float precision.\n",
            "  warnings.warn(\n"
          ]
        },
        {
          "output_type": "execute_result",
          "data": {
            "text/plain": [
              "(-0.5, 335.5, 335.5, -0.5)"
            ]
          },
          "metadata": {},
          "execution_count": 6
        },
        {
          "output_type": "display_data",
          "data": {
            "text/plain": [
              "<Figure size 1000x500 with 2 Axes>"
            ],
            "image/png": "[encoded data removed]"
          },
          "metadata": {}
        }
      ],
      "source": [
        "dataset = HaloDataSet(dataset_dir, mode='train')\n",
        "\n",
        "_, label = dataset[0]\n",
        "\n",
        "label_0 = label[0].numpy()\n",
        "label_1 = label[1].numpy()\n",
        "\n",
        "fig, axs = plt.subplots(1, 2, figsize=(10, 5))\n",
        "axs[0].imshow(label_0, cmap='gray')\n",
        "axs[0].set_title('Label 0: Low Possibility Masses')\n",
        "axs[0].axis('off')\n",
        "\n",
        "axs[1].imshow(label_1, cmap='gray')\n",
        "axs[1].set_title('Label 1: High Possibility Masses')\n",
        "axs[1].axis('off')"
      ]
    },
    {
      "cell_type": "code",
      "execution_count": null,
      "metadata": {
        "id": "nMgQQLUJMlTE"
      },
      "outputs": [],
      "source": [
        "test_size = int(0.1 * len(dataset))\n",
        "train_size = len(dataset) - test_size\n",
        "\n",
        "train_dataset, test_dataset = random_split(dataset, [train_size, test_size])\n",
        "\n",
        "train_loader = DataLoader(train_dataset, batch_size=32, shuffle=True, num_workers=2)\n",
        "test_loader = DataLoader(test_dataset, batch_size=32, shuffle=False, num_workers=2)"
      ]
    },
    {
      "cell_type": "code",
      "execution_count": null,
      "metadata": {
        "id": "6KqXN4fzMrTR"
      },
      "outputs": [],
      "source": [
        "class DoubleConv(nn.Module):\n",
        "    def __init__(self, in_channels, out_channels, mid_channels=None, drop_channels=True):\n",
        "        super().__init__()\n",
        "        if not mid_channels:\n",
        "            mid_channels = out_channels\n",
        "        self.double_conv = nn.Sequential(\n",
        "            nn.Conv2d(in_channels, mid_channels, kernel_size=3, padding=1, bias=False),\n",
        "            nn.BatchNorm2d(mid_channels),\n",
        "            nn.ReLU(inplace=True),\n",
        "            nn.Conv2d(mid_channels, out_channels, kernel_size=3, padding=1, bias=False),\n",
        "            nn.BatchNorm2d(out_channels),\n",
        "            nn.ReLU(inplace=True)\n",
        "        )\n",
        "        if drop_channels:\n",
        "            self.double_conv.append(nn.Dropout2d(p=0.1))\n",
        "\n",
        "    def forward(self, x):\n",
        "        return self.double_conv(x)"
      ]
    },
    {
      "cell_type": "code",
      "execution_count": null,
      "metadata": {
        "id": "uvTxrVvgM6e7",
        "colab": {
          "base_uri": "https://localhost:8080/",
          "height": 235
        },
        "outputId": "98f56db9-ef0d-4309-d6a5-e03875b837a0"
      },
      "outputs": [
        {
          "output_type": "error",
          "ename": "NameError",
          "evalue": "name 'nn' is not defined",
          "traceback": [
            "\u001b[0;31m---------------------------------------------------------------------------\u001b[0m",
            "\u001b[0;31mNameError\u001b[0m                                 Traceback (most recent call last)",
            "\u001b[0;32m<ipython-input-2-26319bb4288f>\u001b[0m in \u001b[0;36m<cell line: 1>\u001b[0;34m()\u001b[0m\n\u001b[0;32m----> 1\u001b[0;31m \u001b[0;32mclass\u001b[0m \u001b[0mDownSamplerBlock\u001b[0m\u001b[0;34m(\u001b[0m\u001b[0mnn\u001b[0m\u001b[0;34m.\u001b[0m\u001b[0mModule\u001b[0m\u001b[0;34m)\u001b[0m\u001b[0;34m:\u001b[0m\u001b[0;34m\u001b[0m\u001b[0;34m\u001b[0m\u001b[0m\n\u001b[0m\u001b[1;32m      2\u001b[0m     \u001b[0;32mdef\u001b[0m \u001b[0m__init__\u001b[0m\u001b[0;34m(\u001b[0m\u001b[0mself\u001b[0m\u001b[0;34m,\u001b[0m \u001b[0min_channels\u001b[0m\u001b[0;34m,\u001b[0m \u001b[0mout_channels\u001b[0m\u001b[0;34m)\u001b[0m\u001b[0;34m:\u001b[0m\u001b[0;34m\u001b[0m\u001b[0;34m\u001b[0m\u001b[0m\n\u001b[1;32m      3\u001b[0m         \u001b[0msuper\u001b[0m\u001b[0;34m(\u001b[0m\u001b[0;34m)\u001b[0m\u001b[0;34m.\u001b[0m\u001b[0m__init__\u001b[0m\u001b[0;34m(\u001b[0m\u001b[0;34m)\u001b[0m\u001b[0;34m\u001b[0m\u001b[0;34m\u001b[0m\u001b[0m\n\u001b[1;32m      4\u001b[0m         self.maxpool_conv = nn.Sequential(\n\u001b[1;32m      5\u001b[0m             \u001b[0mnn\u001b[0m\u001b[0;34m.\u001b[0m\u001b[0mMaxPool2d\u001b[0m\u001b[0;34m(\u001b[0m\u001b[0;36m2\u001b[0m\u001b[0;34m)\u001b[0m\u001b[0;34m,\u001b[0m\u001b[0;34m\u001b[0m\u001b[0;34m\u001b[0m\u001b[0m\n",
            "\u001b[0;31mNameError\u001b[0m: name 'nn' is not defined"
          ]
        }
      ],
      "source": [
        "class DownSamplerBlock(nn.Module):\n",
        "    def __init__(self, in_channels, out_channels):\n",
        "        super().__init__()\n",
        "        self.maxpool_conv = nn.Sequential(\n",
        "            nn.MaxPool2d(2),\n",
        "            DoubleConv(in_channels, out_channels)\n",
        "        )\n",
        "\n",
        "    def forward(self, x):\n",
        "        return self.maxpool_conv(x)"
      ]
    },
    {
      "cell_type": "code",
      "execution_count": null,
      "metadata": {
        "id": "ZbCVeQgMM989"
      },
      "outputs": [],
      "source": [
        "class UpSamplerBlock(nn.Module):\n",
        "    def __init__(self, in_channels, out_channels, bilinear=True):\n",
        "        super().__init__()\n",
        "\n",
        "        if bilinear:\n",
        "            self.up = nn.Upsample(scale_factor=2, mode='bilinear', align_corners=True)\n",
        "            self.conv = DoubleConv(in_channels, out_channels, in_channels // 2)\n",
        "        else:\n",
        "            self.up = nn.ConvTranspose2d(in_channels, in_channels // 2, kernel_size=2, stride=2)\n",
        "            self.conv = DoubleConv(in_channels, out_channels)\n",
        "\n",
        "    def forward(self, x1, x2):\n",
        "        x1 = self.up(x1)\n",
        "        diffY = x2.size()[2] - x1.size()[2]\n",
        "        diffX = x2.size()[3] - x1.size()[3]\n",
        "\n",
        "        x1 = F.pad(x1, [diffX // 2, diffX - diffX // 2,\n",
        "                        diffY // 2, diffY - diffY // 2])\n",
        "        x = torch.cat([x2, x1], dim=1)\n",
        "        return self.conv(x)"
      ]
    },
    {
      "cell_type": "code",
      "execution_count": null,
      "metadata": {
        "id": "51gfkAwwNFh9"
      },
      "outputs": [],
      "source": [
        "class OutConv(nn.Module):\n",
        "    def __init__(self, in_channels, out_channels):\n",
        "        super(OutConv, self).__init__()\n",
        "        self.conv = nn.Conv2d(in_channels, out_channels, kernel_size=1)\n",
        "\n",
        "    def forward(self, x):\n",
        "        return self.conv(x)"
      ]
    },
    {
      "cell_type": "code",
      "execution_count": null,
      "metadata": {
        "id": "CTsc3bjhNXK1"
      },
      "outputs": [],
      "source": [
        "class BayesianUNet(nn.Module):\n",
        "    def __init__(self, n_channels, n_classes, bilinear=True):\n",
        "        super(BayesianUNet, self).__init__()\n",
        "        self.n_channels = n_channels\n",
        "        self.n_classes = n_classes\n",
        "        self.bilinear = bilinear\n",
        "\n",
        "        self.inc = DoubleConv(n_channels, 64, drop_channels=False)\n",
        "        self.down1 = DownSamplerBlock(64, 128)\n",
        "        self.down2 = DownSamplerBlock(128, 256)\n",
        "        self.down3 = DownSamplerBlock(256, 512)\n",
        "        factor = 2 if bilinear else 1\n",
        "        self.down4 = DownSamplerBlock(512, 1024 // factor)\n",
        "        self.up1 = UpSamplerBlock(1024, 512 // factor, bilinear)\n",
        "        self.up2 = UpSamplerBlock(512, 256 // factor, bilinear)\n",
        "        self.up3 = UpSamplerBlock(256, 128 // factor, bilinear)\n",
        "        self.up4 = UpSamplerBlock(128, 64, bilinear)\n",
        "        self.outc = OutConv(64, n_classes)\n",
        "\n",
        "    def forward(self, x):\n",
        "        x1 = self.inc(x)\n",
        "        x2 = self.down1(x1)\n",
        "        x3 = self.down2(x2)\n",
        "        x4 = self.down3(x3)\n",
        "        x5 = self.down4(x4)\n",
        "        x = self.up1(x5, x4)\n",
        "        x = self.up2(x, x3)\n",
        "        x = self.up3(x, x2)\n",
        "        x = self.up4(x, x1)\n",
        "        logits = self.outc(x)\n",
        "        return logits"
      ]
    },
    {
      "cell_type": "code",
      "execution_count": null,
      "metadata": {
        "id": "kzK31-bONZlV"
      },
      "outputs": [],
      "source": [
        "def dice_coeff(input: Tensor, target: Tensor, reduce_batch_first: bool = False, epsilon=1e-6):\n",
        "    if input.dim() == 2 or reduce_batch_first:\n",
        "        inter = torch.dot(input.reshape(-1), target.reshape(-1))\n",
        "        sets_sum = torch.sum(input) + torch.sum(target)\n",
        "        if sets_sum.item() == 0:\n",
        "            sets_sum = 2 * inter\n",
        "\n",
        "        return (2 * inter + epsilon) / (sets_sum + epsilon)\n",
        "    else:\n",
        "        dice = 0\n",
        "        for i in range(input.shape[0]):\n",
        "            dice += dice_coeff(input[i, ...], target[i, ...])\n",
        "        return dice / input.shape[0]"
      ]
    },
    {
      "cell_type": "code",
      "execution_count": null,
      "metadata": {
        "id": "hG3Qaj2EPkho",
        "colab": {
          "base_uri": "https://localhost:8080/",
          "height": 235
        },
        "outputId": "9600f615-9068-449c-d1fb-212ae503d191"
      },
      "outputs": [
        {
          "output_type": "error",
          "ename": "NameError",
          "evalue": "name 'Tensor' is not defined",
          "traceback": [
            "\u001b[0;31m---------------------------------------------------------------------------\u001b[0m",
            "\u001b[0;31mNameError\u001b[0m                                 Traceback (most recent call last)",
            "\u001b[0;32m<ipython-input-3-cbd74bddd79e>\u001b[0m in \u001b[0;36m<cell line: 1>\u001b[0;34m()\u001b[0m\n\u001b[0;32m----> 1\u001b[0;31m \u001b[0;32mdef\u001b[0m \u001b[0mmulticlass_dice_coeff\u001b[0m\u001b[0;34m(\u001b[0m\u001b[0minput\u001b[0m\u001b[0;34m:\u001b[0m \u001b[0mTensor\u001b[0m\u001b[0;34m,\u001b[0m \u001b[0mtarget\u001b[0m\u001b[0;34m:\u001b[0m \u001b[0mTensor\u001b[0m\u001b[0;34m,\u001b[0m \u001b[0mreduce_batch_first\u001b[0m\u001b[0;34m:\u001b[0m \u001b[0mbool\u001b[0m \u001b[0;34m=\u001b[0m \u001b[0;32mFalse\u001b[0m\u001b[0;34m,\u001b[0m \u001b[0mepsilon\u001b[0m\u001b[0;34m=\u001b[0m\u001b[0;36m1e-6\u001b[0m\u001b[0;34m)\u001b[0m\u001b[0;34m:\u001b[0m\u001b[0;34m\u001b[0m\u001b[0;34m\u001b[0m\u001b[0m\n\u001b[0m\u001b[1;32m      2\u001b[0m     \u001b[0mdice\u001b[0m \u001b[0;34m=\u001b[0m \u001b[0;36m0\u001b[0m\u001b[0;34m\u001b[0m\u001b[0;34m\u001b[0m\u001b[0m\n\u001b[1;32m      3\u001b[0m     \u001b[0;32mfor\u001b[0m \u001b[0mchannel\u001b[0m \u001b[0;32min\u001b[0m \u001b[0mrange\u001b[0m\u001b[0;34m(\u001b[0m\u001b[0minput\u001b[0m\u001b[0;34m.\u001b[0m\u001b[0mshape\u001b[0m\u001b[0;34m[\u001b[0m\u001b[0;36m1\u001b[0m\u001b[0;34m]\u001b[0m\u001b[0;34m)\u001b[0m\u001b[0;34m:\u001b[0m\u001b[0;34m\u001b[0m\u001b[0;34m\u001b[0m\u001b[0m\n\u001b[1;32m      4\u001b[0m         \u001b[0mdice\u001b[0m \u001b[0;34m+=\u001b[0m \u001b[0mdice_coeff\u001b[0m\u001b[0;34m(\u001b[0m\u001b[0minput\u001b[0m\u001b[0;34m[\u001b[0m\u001b[0;34m:\u001b[0m\u001b[0;34m,\u001b[0m \u001b[0mchannel\u001b[0m\u001b[0;34m,\u001b[0m \u001b[0;34m...\u001b[0m\u001b[0;34m]\u001b[0m\u001b[0;34m,\u001b[0m \u001b[0mtarget\u001b[0m\u001b[0;34m[\u001b[0m\u001b[0;34m:\u001b[0m\u001b[0;34m,\u001b[0m \u001b[0mchannel\u001b[0m\u001b[0;34m,\u001b[0m \u001b[0;34m...\u001b[0m\u001b[0;34m]\u001b[0m\u001b[0;34m,\u001b[0m \u001b[0mreduce_batch_first\u001b[0m\u001b[0;34m,\u001b[0m \u001b[0mepsilon\u001b[0m\u001b[0;34m)\u001b[0m\u001b[0;34m\u001b[0m\u001b[0;34m\u001b[0m\u001b[0m\n\u001b[1;32m      5\u001b[0m \u001b[0;34m\u001b[0m\u001b[0m\n",
            "\u001b[0;31mNameError\u001b[0m: name 'Tensor' is not defined"
          ]
        }
      ],
      "source": [
        "def multiclass_dice_coeff(input: Tensor, target: Tensor, reduce_batch_first: bool = False, epsilon=1e-6):\n",
        "    dice = 0\n",
        "    for channel in range(input.shape[1]):\n",
        "        dice += dice_coeff(input[:, channel, ...], target[:, channel, ...], reduce_batch_first, epsilon)\n",
        "\n",
        "    return dice / input.shape[1]"
      ]
    },
    {
      "cell_type": "code",
      "execution_count": null,
      "metadata": {
        "id": "PUj_SshWPnjG"
      },
      "outputs": [],
      "source": [
        "def dice_loss(input: Tensor, target: Tensor, multiclass: bool = False):\n",
        "    fn = multiclass_dice_coeff if multiclass else dice_coeff\n",
        "    return 1 - fn(input, target, reduce_batch_first=True)"
      ]
    },
    {
      "cell_type": "code",
      "execution_count": null,
      "metadata": {
        "id": "807G6Rt2YZVv"
      },
      "outputs": [],
      "source": [
        "device = torch.device('cuda' if torch.cuda.is_available() else 'cpu')"
      ]
    },
    {
      "cell_type": "code",
      "execution_count": null,
      "metadata": {
        "id": "mg-ULjFsPq3X"
      },
      "outputs": [],
      "source": [
        "net = BayesianUNet(n_channels=3, n_classes=2, bilinear=True).to(device)"
      ]
    },
    {
      "cell_type": "code",
      "execution_count": null,
      "metadata": {
        "id": "QlA49OrLXlbf"
      },
      "outputs": [],
      "source": [
        "optimiser = optim.Adam(net.parameters(), lr=1e-2, weight_decay=0)"
      ]
    },
    {
      "cell_type": "code",
      "execution_count": null,
      "metadata": {
        "id": "njDoQhyqYXvE"
      },
      "outputs": [],
      "source": [
        "scheduler = optim.lr_scheduler.ReduceLROnPlateau(optimiser, 'max', patience=20)\n",
        "grad_scaler = torch.cuda.amp.GradScaler(enabled=True)"
      ]
    },
    {
      "cell_type": "code",
      "execution_count": null,
      "metadata": {
        "id": "K0ChnAkoZx8o"
      },
      "outputs": [],
      "source": [
        "cross_entropy = nn.CrossEntropyLoss()\n",
        "epochs = 10"
      ]
    },
    {
      "cell_type": "code",
      "execution_count": null,
      "metadata": {
        "colab": {
          "base_uri": "https://localhost:8080/",
          "height": 792
        },
        "id": "T5HIQaP7aN7J",
        "outputId": "48f0ec4b-7575-4cc2-85b7-1d72326975cd"
      },
      "outputs": [
        {
          "output_type": "stream",
          "name": "stderr",
          "text": [
            "\rEpoch 1/10:   0%|          | 0/26 [00:00<?, ?batch/s]"
          ]
        },
        {
          "output_type": "stream",
          "name": "stdout",
          "text": [
            "X torch.Size([32, 3, 336, 336])\n",
            "DOWN X1 torch.Size([32, 64, 336, 336])\n",
            "DOWN 1 X2 torch.Size([32, 128, 168, 168])\n",
            "DOWN 2 X3 torch.Size([32, 256, 84, 84])\n",
            "DOWN 3 X4 torch.Size([32, 512, 42, 42])\n",
            "DOWN 4 X5 torch.Size([32, 512, 21, 21])\n",
            "UP 1 torch.Size([32, 256, 42, 42])\n",
            "UP 2 torch.Size([32, 128, 84, 84])\n",
            "UP 3 torch.Size([32, 64, 168, 168])\n",
            "UP 4 torch.Size([32, 64, 336, 336])\n",
            "Out torch.Size([32, 64, 336, 336])\n",
            "X torch.Size([32, 3, 336, 336])\n",
            "DOWN X1 torch.Size([32, 64, 336, 336])\n",
            "DOWN 1 X2 torch.Size([32, 128, 168, 168])\n",
            "DOWN 2 X3 torch.Size([32, 256, 84, 84])\n",
            "DOWN 3 X4 torch.Size([32, 512, 42, 42])\n",
            "DOWN 4 X5 torch.Size([32, 512, 21, 21])\n",
            "UP 1 torch.Size([32, 256, 42, 42])\n",
            "UP 2 torch.Size([32, 128, 84, 84])\n",
            "UP 3 torch.Size([32, 64, 168, 168])\n",
            "UP 4 torch.Size([32, 64, 336, 336])\n",
            "Out torch.Size([32, 64, 336, 336])\n"
          ]
        },
        {
          "output_type": "stream",
          "name": "stderr",
          "text": [
            "\rEpoch 1/10:   0%|          | 0/26 [00:35<?, ?batch/s]\n"
          ]
        },
        {
          "output_type": "error",
          "ename": "KeyboardInterrupt",
          "evalue": "",
          "traceback": [
            "\u001b[0;31m---------------------------------------------------------------------------\u001b[0m",
            "\u001b[0;31mKeyboardInterrupt\u001b[0m                         Traceback (most recent call last)",
            "\u001b[0;32m<ipython-input-21-f2d593e2eece>\u001b[0m in \u001b[0;36m<cell line: 2>\u001b[0;34m()\u001b[0m\n\u001b[1;32m     17\u001b[0m             \u001b[0moptimiser\u001b[0m\u001b[0;34m.\u001b[0m\u001b[0mzero_grad\u001b[0m\u001b[0;34m(\u001b[0m\u001b[0mset_to_none\u001b[0m\u001b[0;34m=\u001b[0m\u001b[0;32mTrue\u001b[0m\u001b[0;34m)\u001b[0m\u001b[0;34m\u001b[0m\u001b[0;34m\u001b[0m\u001b[0m\n\u001b[1;32m     18\u001b[0m             \u001b[0mgrad_scaler\u001b[0m\u001b[0;34m.\u001b[0m\u001b[0mscale\u001b[0m\u001b[0;34m(\u001b[0m\u001b[0mloss\u001b[0m\u001b[0;34m)\u001b[0m\u001b[0;34m.\u001b[0m\u001b[0mbackward\u001b[0m\u001b[0;34m(\u001b[0m\u001b[0;34m)\u001b[0m\u001b[0;34m\u001b[0m\u001b[0;34m\u001b[0m\u001b[0m\n\u001b[0;32m---> 19\u001b[0;31m             \u001b[0mgrad_scaler\u001b[0m\u001b[0;34m.\u001b[0m\u001b[0mstep\u001b[0m\u001b[0;34m(\u001b[0m\u001b[0moptimiser\u001b[0m\u001b[0;34m)\u001b[0m\u001b[0;34m\u001b[0m\u001b[0;34m\u001b[0m\u001b[0m\n\u001b[0m\u001b[1;32m     20\u001b[0m             \u001b[0mgrad_scaler\u001b[0m\u001b[0;34m.\u001b[0m\u001b[0mupdate\u001b[0m\u001b[0;34m(\u001b[0m\u001b[0;34m)\u001b[0m\u001b[0;34m\u001b[0m\u001b[0;34m\u001b[0m\u001b[0m\n\u001b[1;32m     21\u001b[0m \u001b[0;34m\u001b[0m\u001b[0m\n",
            "\u001b[0;32m/usr/local/lib/python3.10/dist-packages/torch/amp/grad_scaler.py\u001b[0m in \u001b[0;36mstep\u001b[0;34m(self, optimizer, *args, **kwargs)\u001b[0m\n\u001b[1;32m    451\u001b[0m         ), \"No inf checks were recorded for this optimizer.\"\n\u001b[1;32m    452\u001b[0m \u001b[0;34m\u001b[0m\u001b[0m\n\u001b[0;32m--> 453\u001b[0;31m         \u001b[0mretval\u001b[0m \u001b[0;34m=\u001b[0m \u001b[0mself\u001b[0m\u001b[0;34m.\u001b[0m\u001b[0m_maybe_opt_step\u001b[0m\u001b[0;34m(\u001b[0m\u001b[0moptimizer\u001b[0m\u001b[0;34m,\u001b[0m \u001b[0moptimizer_state\u001b[0m\u001b[0;34m,\u001b[0m \u001b[0;34m*\u001b[0m\u001b[0margs\u001b[0m\u001b[0;34m,\u001b[0m \u001b[0;34m**\u001b[0m\u001b[0mkwargs\u001b[0m\u001b[0;34m)\u001b[0m\u001b[0;34m\u001b[0m\u001b[0;34m\u001b[0m\u001b[0m\n\u001b[0m\u001b[1;32m    454\u001b[0m \u001b[0;34m\u001b[0m\u001b[0m\n\u001b[1;32m    455\u001b[0m         \u001b[0moptimizer_state\u001b[0m\u001b[0;34m[\u001b[0m\u001b[0;34m\"stage\"\u001b[0m\u001b[0;34m]\u001b[0m \u001b[0;34m=\u001b[0m \u001b[0mOptState\u001b[0m\u001b[0;34m.\u001b[0m\u001b[0mSTEPPED\u001b[0m\u001b[0;34m\u001b[0m\u001b[0;34m\u001b[0m\u001b[0m\n",
            "\u001b[0;32m/usr/local/lib/python3.10/dist-packages/torch/amp/grad_scaler.py\u001b[0m in \u001b[0;36m_maybe_opt_step\u001b[0;34m(self, optimizer, optimizer_state, *args, **kwargs)\u001b[0m\n\u001b[1;32m    348\u001b[0m     ) -> Optional[float]:\n\u001b[1;32m    349\u001b[0m         \u001b[0mretval\u001b[0m\u001b[0;34m:\u001b[0m \u001b[0mOptional\u001b[0m\u001b[0;34m[\u001b[0m\u001b[0mfloat\u001b[0m\u001b[0;34m]\u001b[0m \u001b[0;34m=\u001b[0m \u001b[0;32mNone\u001b[0m\u001b[0;34m\u001b[0m\u001b[0;34m\u001b[0m\u001b[0m\n\u001b[0;32m--> 350\u001b[0;31m         \u001b[0;32mif\u001b[0m \u001b[0;32mnot\u001b[0m \u001b[0msum\u001b[0m\u001b[0;34m(\u001b[0m\u001b[0mv\u001b[0m\u001b[0;34m.\u001b[0m\u001b[0mitem\u001b[0m\u001b[0;34m(\u001b[0m\u001b[0;34m)\u001b[0m \u001b[0;32mfor\u001b[0m \u001b[0mv\u001b[0m \u001b[0;32min\u001b[0m \u001b[0moptimizer_state\u001b[0m\u001b[0;34m[\u001b[0m\u001b[0;34m\"found_inf_per_device\"\u001b[0m\u001b[0;34m]\u001b[0m\u001b[0;34m.\u001b[0m\u001b[0mvalues\u001b[0m\u001b[0;34m(\u001b[0m\u001b[0;34m)\u001b[0m\u001b[0;34m)\u001b[0m\u001b[0;34m:\u001b[0m\u001b[0;34m\u001b[0m\u001b[0;34m\u001b[0m\u001b[0m\n\u001b[0m\u001b[1;32m    351\u001b[0m             \u001b[0mretval\u001b[0m \u001b[0;34m=\u001b[0m \u001b[0moptimizer\u001b[0m\u001b[0;34m.\u001b[0m\u001b[0mstep\u001b[0m\u001b[0;34m(\u001b[0m\u001b[0;34m*\u001b[0m\u001b[0margs\u001b[0m\u001b[0;34m,\u001b[0m \u001b[0;34m**\u001b[0m\u001b[0mkwargs\u001b[0m\u001b[0;34m)\u001b[0m\u001b[0;34m\u001b[0m\u001b[0;34m\u001b[0m\u001b[0m\n\u001b[1;32m    352\u001b[0m         \u001b[0;32mreturn\u001b[0m \u001b[0mretval\u001b[0m\u001b[0;34m\u001b[0m\u001b[0;34m\u001b[0m\u001b[0m\n",
            "\u001b[0;32m/usr/local/lib/python3.10/dist-packages/torch/amp/grad_scaler.py\u001b[0m in \u001b[0;36m<genexpr>\u001b[0;34m(.0)\u001b[0m\n\u001b[1;32m    348\u001b[0m     ) -> Optional[float]:\n\u001b[1;32m    349\u001b[0m         \u001b[0mretval\u001b[0m\u001b[0;34m:\u001b[0m \u001b[0mOptional\u001b[0m\u001b[0;34m[\u001b[0m\u001b[0mfloat\u001b[0m\u001b[0;34m]\u001b[0m \u001b[0;34m=\u001b[0m \u001b[0;32mNone\u001b[0m\u001b[0;34m\u001b[0m\u001b[0;34m\u001b[0m\u001b[0m\n\u001b[0;32m--> 350\u001b[0;31m         \u001b[0;32mif\u001b[0m \u001b[0;32mnot\u001b[0m \u001b[0msum\u001b[0m\u001b[0;34m(\u001b[0m\u001b[0mv\u001b[0m\u001b[0;34m.\u001b[0m\u001b[0mitem\u001b[0m\u001b[0;34m(\u001b[0m\u001b[0;34m)\u001b[0m \u001b[0;32mfor\u001b[0m \u001b[0mv\u001b[0m \u001b[0;32min\u001b[0m \u001b[0moptimizer_state\u001b[0m\u001b[0;34m[\u001b[0m\u001b[0;34m\"found_inf_per_device\"\u001b[0m\u001b[0;34m]\u001b[0m\u001b[0;34m.\u001b[0m\u001b[0mvalues\u001b[0m\u001b[0;34m(\u001b[0m\u001b[0;34m)\u001b[0m\u001b[0;34m)\u001b[0m\u001b[0;34m:\u001b[0m\u001b[0;34m\u001b[0m\u001b[0;34m\u001b[0m\u001b[0m\n\u001b[0m\u001b[1;32m    351\u001b[0m             \u001b[0mretval\u001b[0m \u001b[0;34m=\u001b[0m \u001b[0moptimizer\u001b[0m\u001b[0;34m.\u001b[0m\u001b[0mstep\u001b[0m\u001b[0;34m(\u001b[0m\u001b[0;34m*\u001b[0m\u001b[0margs\u001b[0m\u001b[0;34m,\u001b[0m \u001b[0;34m**\u001b[0m\u001b[0mkwargs\u001b[0m\u001b[0;34m)\u001b[0m\u001b[0;34m\u001b[0m\u001b[0;34m\u001b[0m\u001b[0m\n\u001b[1;32m    352\u001b[0m         \u001b[0;32mreturn\u001b[0m \u001b[0mretval\u001b[0m\u001b[0;34m\u001b[0m\u001b[0;34m\u001b[0m\u001b[0m\n",
            "\u001b[0;31mKeyboardInterrupt\u001b[0m: "
          ]
        }
      ],
      "source": [
        "global_step = 0\n",
        "for epoch in range(epochs):\n",
        "    net.train()\n",
        "    epoch_loss = 0\n",
        "    with tqdm(total=len(train_loader), desc=f'Epoch {epoch + 1}/{epochs}', unit='batch') as pbar:\n",
        "        for batch in train_loader:\n",
        "            images = batch[0].to(device=device, dtype=torch.float32)\n",
        "            true_masks = batch[1].to(device=device, dtype=torch.float32)\n",
        "\n",
        "            with torch.cuda.amp.autocast(enabled=True):\n",
        "                masks_pred = net(images)\n",
        "                loss = cross_entropy(masks_pred, true_masks) \\\n",
        "                    + dice_loss(F.softmax(masks_pred, dim=1).float(),\n",
        "                                true_masks,\n",
        "                                multiclass=True)\n",
        "\n",
        "            optimiser.zero_grad(set_to_none=True)\n",
        "            grad_scaler.scale(loss).backward()\n",
        "            grad_scaler.step(optimiser)\n",
        "            grad_scaler.update()\n",
        "\n",
        "            global_step += 1\n",
        "            epoch_loss += loss.item()\n",
        "\n",
        "    print(f'Epoch {epoch + 1} completed with average loss: {epoch_loss / len(train_loader):.4f}')\n",
        "\n",
        "    torch.save(net.state_dict(), f'model_epoch_{epoch + 1}.pth')"
      ]
    },
    {
      "cell_type": "code",
      "execution_count": null,
      "metadata": {
        "id": "Evig9parfW_-"
      },
      "outputs": [],
      "source": [
        "def dice_coeff(input: Tensor, target: Tensor, reduce_batch_first: bool = False, epsilon=1e-6):\n",
        "    if input.dim() == 2 or reduce_batch_first:\n",
        "        inter = torch.dot(input.reshape(-1), target.reshape(-1))\n",
        "        sets_sum = torch.sum(input) + torch.sum(target)\n",
        "        if sets_sum.item() == 0:\n",
        "            sets_sum = 2 * inter\n",
        "\n",
        "        return (2 * inter + epsilon) / (sets_sum + epsilon)\n",
        "    else:\n",
        "        dice = 0\n",
        "        for i in range(input.shape[0]):\n",
        "            dice += dice_coeff(input[i, ...], target[i, ...])\n",
        "        return dice / input.shape[0]"
      ]
    },
    {
      "cell_type": "code",
      "execution_count": null,
      "metadata": {
        "id": "-hXQ3e5dfl-8"
      },
      "outputs": [],
      "source": [
        "def multiclass_dice_coeff(input: Tensor, target: Tensor, reduce_batch_first: bool = False, epsilon=1e-6):\n",
        "    dice = 0\n",
        "    for channel in range(input.shape[1]):\n",
        "        dice += dice_coeff(input[:, channel, ...], target[:, channel, ...], reduce_batch_first, epsilon)\n",
        "\n",
        "    return dice / input.shape[1]"
      ]
    },
    {
      "cell_type": "code",
      "execution_count": null,
      "metadata": {
        "id": "yZA59ZDSfqCH"
      },
      "outputs": [],
      "source": [
        "def dice_loss(input: Tensor, target: Tensor, multiclass: bool = False):\n",
        "    fn = multiclass_dice_coeff if multiclass else dice_coeff\n",
        "    return 1 - fn(input, target, reduce_batch_first=True)"
      ]
    },
    {
      "cell_type": "code",
      "execution_count": null,
      "metadata": {
        "id": "jAXbSWqGfuZk"
      },
      "outputs": [],
      "source": [
        "def accuracy_coeff(preds, target, num_classes):\n",
        "    return torchmetrics.functional.accuracy(preds = preds,\n",
        "                                            target = target,\n",
        "                                            average='macro',\n",
        "                                            threshold=0.5,\n",
        "                                            top_k=1,\n",
        "                                            task='multiclass',\n",
        "                                            num_classes=num_classes,\n",
        "                                            ignore_index=None)"
      ]
    },
    {
      "cell_type": "code",
      "execution_count": null,
      "metadata": {
        "id": "csGRj_bifw3g"
      },
      "outputs": [],
      "source": [
        "def multiclass_accuracy(preds, target, num_classes):\n",
        "    return torchmetrics.functional.accuracy(preds = preds,\n",
        "                                            target = target,\n",
        "                                            average=None,\n",
        "                                            threshold=0.5,\n",
        "                                            top_k=1,\n",
        "                                            num_classes=num_classes,\n",
        "                                            task='multiclass',\n",
        "                                            ignore_index=None)"
      ]
    },
    {
      "cell_type": "code",
      "execution_count": null,
      "metadata": {
        "id": "tNrLclRaf2Yt"
      },
      "outputs": [],
      "source": [
        "def F1_score(preds, target, num_classes):\n",
        "    return torchmetrics.functional.f1_score(preds,\n",
        "                        target,\n",
        "                        num_classes=num_classes,\n",
        "                        threshold=0.5,\n",
        "                        average=None,\n",
        "                        ignore_index=None,\n",
        "                        top_k=1,\n",
        "                        task='multiclass'\n",
        "                        )"
      ]
    },
    {
      "cell_type": "code",
      "execution_count": null,
      "metadata": {
        "colab": {
          "base_uri": "https://localhost:8080/"
        },
        "id": "-xWpef73c2qw",
        "outputId": "244b20dc-78ea-4c24-ab41-3e1d4b46779d"
      },
      "outputs": [
        {
          "output_type": "stream",
          "name": "stderr",
          "text": [
            "<ipython-input-27-573c7ef06ddb>:74: RuntimeWarning: invalid value encountered in divide\n",
            "  cf_matrix = cf_matrix/cf_matrix.sum(axis=1,keepdims=True)\n"
          ]
        },
        {
          "output_type": "stream",
          "name": "stdout",
          "text": [
            "Validation Dice score : 1.349998116493225\n",
            "Global accuracy score : 0.6754932403564453\n",
            "F1 score : tensor([0.7687, 0.2923])\n",
            "Classwise accuracy score : tensor([0.6451, 0.7059])\n",
            "Pa score : 0.7931773066520691\n",
            "Pu score : 0.9813516736030579\n",
            "PavPu score : 0.3764234483242035\n"
          ]
        }
      ],
      "source": [
        "def evaluate_uncertainty(net,\n",
        "                        dataloader,\n",
        "                        device,\n",
        "                        nb_forward):\n",
        "    net.eval()\n",
        "    enable_dropout(net)\n",
        "    num_val_batches = len(dataloader)\n",
        "    dice_score = 0\n",
        "    accuracy_score = 0\n",
        "    accuracy_per_class = 0\n",
        "    F1_coeff_per_class  = 0\n",
        "    IOU_coeff = 0\n",
        "    IOU_coeff_per_class = 0\n",
        "    cf_matrix = np.zeros(shape = (net.n_classes,net.n_classes))\n",
        "    pa = 0\n",
        "    pu = 0\n",
        "    pavpu = 0\n",
        "\n",
        "    for batch in tqdm(dataloader, total=num_val_batches, desc='Validation round', unit='batch', leave=False):\n",
        "        image, mask_true = batch[0], batch[1]\n",
        "\n",
        "        image = image.to(device=device, dtype=torch.float32)\n",
        "        mask_true = mask_true.to(dtype=torch.float32)\n",
        "\n",
        "        dropout_predictions = torch.empty((0,mask_true.size(0),mask_true.size(1),mask_true.size(2),mask_true.size(3)))\n",
        "\n",
        "        for f_pass in range(nb_forward):\n",
        "            with torch.no_grad():\n",
        "                mask_pred = net(image)\n",
        "\n",
        "                dropout_predictions = torch.cat((dropout_predictions,mask_pred.cpu().softmax(dim=1).unsqueeze(dim=0)),dim=0)\n",
        "\n",
        "        batch_mean = dropout_predictions.mean(dim=0)\n",
        "        batch_std = dropout_predictions.std(dim=0)\n",
        "        batch_pred_entropy = -torch.sum(batch_mean*batch_mean.log(),dim=1)\n",
        "        batch_mutual_info = batch_pred_entropy+torch.mean(torch.sum(dropout_predictions*dropout_predictions.log(),dim=-3),dim=0)\n",
        "\n",
        "        mask_pred_labels = batch_mean.argmax(dim=1)\n",
        "        mask_true_labels = mask_true.argmax(dim=1)\n",
        "\n",
        "        accuracy_score += accuracy_coeff(mask_pred_labels, mask_true_labels, num_classes = net.n_classes)\n",
        "        accuracy_per_class += multiclass_accuracy(mask_pred_labels, mask_true_labels, num_classes = net.n_classes)\n",
        "        F1_coeff_per_class += F1_score(mask_pred_labels, mask_true_labels, num_classes= net.n_classes)\n",
        "\n",
        "        mask_pred_onehot = F.one_hot(mask_pred_labels, net.n_classes).permute(0,3,1,2).float()\n",
        "        dice_score += multiclass_dice_coeff(mask_pred_onehot[:, 1:, ...],\n",
        "                                                    mask_true[:, 1:, ...],\n",
        "                                                    reduce_batch_first=False)\n",
        "\n",
        "\n",
        "        w_size = 4\n",
        "        accuracy_tresh = 0.5\n",
        "\n",
        "        unfold = torch.nn.Unfold(kernel_size=(w_size, w_size),stride = w_size)\n",
        "\n",
        "        masktrue_unfold = unfold(mask_true_labels.unsqueeze(dim=1).to(torch.float32))\n",
        "        pred_unfold = unfold(mask_pred_labels.unsqueeze(dim=1).to(torch.float32))\n",
        "        accuracy_matrix = torch.eq(pred_unfold, masktrue_unfold).to(torch.float32).mean(dim=1)\n",
        "        bool_acc_matrix = torch.gt(accuracy_matrix, accuracy_tresh).to(torch.float32)\n",
        "\n",
        "        uncertainty_matrix = unfold(batch_pred_entropy.unsqueeze(dim=1)).mean(dim=1)\n",
        "        t = 0.4\n",
        "        uncertainty_tresh = uncertainty_matrix.min()+t*(uncertainty_matrix.max()-uncertainty_matrix.min())\n",
        "        bool_uncert_matrix = torch.gt(uncertainty_matrix, uncertainty_tresh).to(torch.float32)\n",
        "\n",
        "        nac = (bool_acc_matrix*(1-bool_uncert_matrix)).sum()\n",
        "        nac_plus_nic = (1-bool_uncert_matrix).sum()\n",
        "        niu = (bool_uncert_matrix*(1-bool_acc_matrix)).sum()\n",
        "        nic_plus_niu = (1-bool_acc_matrix).sum()\n",
        "        pa += nac/nac_plus_nic\n",
        "        pu += niu/nic_plus_niu\n",
        "        pavpu += (nac+niu) / torch.ones_like(bool_acc_matrix).sum()\n",
        "\n",
        "    cf_matrix = cf_matrix/cf_matrix.sum(axis=1,keepdims=True)\n",
        "\n",
        "    net.train()\n",
        "    return (dice_score/num_val_batches,\n",
        "            accuracy_score/num_val_batches,\n",
        "            accuracy_per_class/num_val_batches,\n",
        "            F1_coeff_per_class/num_val_batches,\n",
        "            cf_matrix,\n",
        "            pa/num_val_batches,\n",
        "            pu/num_val_batches,\n",
        "            pavpu/num_val_batches)\n",
        "\n",
        "\n",
        "def enable_dropout(model):\n",
        "    for m in model.modules():\n",
        "        if m.__class__.__name__.startswith('Dropout'):\n",
        "            m.train()\n",
        "\n",
        "test_dl = test_loader\n",
        "\n",
        "net = BayesianUNet(n_channels=3, n_classes=2, bilinear=True).to(device=device)\n",
        "\n",
        "checkpoint_path = '/content/model_epoch_10.pth'\n",
        "net.load_state_dict(torch.load(checkpoint_path, map_location=device))\n",
        "net.eval()\n",
        "\n",
        "(val_score,\n",
        "accuracy_score,\n",
        "accuracy_per_class,\n",
        "F1_score,\n",
        "cf_matrix,\n",
        "pa,\n",
        "pu,\n",
        "pavpu) = evaluate_uncertainty(net,test_dl,device, nb_forward=10)\n",
        "\n",
        "print(f'Validation Dice score : {val_score}')\n",
        "print(f'Global accuracy score : {accuracy_score}')\n",
        "print(f'F1 score : {F1_score}')\n",
        "print(f'Classwise accuracy score : {accuracy_per_class}')\n",
        "print(f'Pa score : {pa}')\n",
        "print(f'Pu score : {pu}')\n",
        "print(f'PavPu score : {pavpu}')"
      ]
    },
    {
      "cell_type": "code",
      "execution_count": null,
      "metadata": {
        "colab": {
          "base_uri": "https://localhost:8080/",
          "height": 1000
        },
        "id": "vzSmSHRMuxHp",
        "outputId": "1e9c36a3-e1b9-442d-aad8-3ef9d81d1a4a"
      },
      "outputs": [],
      "source": [
        "W_SIZE = 4\n",
        "NB_FORWARD = 20\n",
        "ACCURACY_THRESH = 0.5\n",
        "UNCERTAINTY_THRESH = 0.4\n",
        "CMAP = colors.ListedColormap([\"b\",\"r\",\"y\",\"g\",\"m\",\"w\"])\n",
        "CLASSES = [\"impervious_surfaces\", \"buildings\", \"low_vegetaion\", \"tree\", \"car\", \"background\"]\n",
        "CMAPSCALE = [-0.5,0.5,1.5,2.5,3.5,4.5,5.5]\n",
        "\n",
        "def enable_dropout(model):\n",
        "\tfor m in model.modules():\n",
        "\t\tif m.__class__.__name__.startswith('Dropout'):\n",
        "\t\t\tm.train()\n",
        "\n",
        "def disable_dropout(model):\n",
        "\tfor m in model.modules():\n",
        "\t\tif m.__class__.__name__.startswith('Dropout'):\n",
        "\t\t\tm.eval()\n",
        "\n",
        "def predict(net, inputs, targets=None, device=\"cpu\", normalization_mean=0, normalization_std=1):\n",
        "  if targets==None:\n",
        "    usetargets = False\n",
        "  else:\n",
        "    usetargets = True\n",
        "  doc = inputs.clone().detach().to(device=device)\n",
        "  dropout_predictions = torch.empty((0,targets.size(0),targets.size(1),targets.size(2),targets.size(3)))\n",
        "\n",
        "  for f_pass in range(NB_FORWARD):\n",
        "    with torch.no_grad():\n",
        "      enable_dropout(net)\n",
        "      mask_pred = net(doc)\n",
        "      dropout_predictions = torch.cat((dropout_predictions,mask_pred.cpu().softmax(dim=1).unsqueeze(dim=0)),dim=0)\n",
        "\n",
        "  batch_mean = dropout_predictions.mean(dim=0)\n",
        "  batch_std = dropout_predictions.std(dim=0)\n",
        "  batch_pred_entropy = -torch.sum(batch_mean*batch_mean.log(),dim=1)\n",
        "  batch_mutual_info = batch_pred_entropy+torch.mean(torch.sum(dropout_predictions*dropout_predictions.log(),dim=-3), dim=0)\n",
        "\n",
        "  if usetargets:\n",
        "    mask_true = targets.clone().detach()\n",
        "    mask_pred_labels = batch_mean.argmax(dim=1)\n",
        "    mask_true_labels = mask_true.argmax(dim=1)\n",
        "\n",
        "    masktrue_unfold = unfold(mask_true_labels.unsqueeze(dim=1).to(torch.float32))\n",
        "    pred_unfold = unfold(mask_pred_labels.unsqueeze(dim=1).to(torch.float32))\n",
        "    accuracy_matrix = torch.eq(pred_unfold, masktrue_unfold).to(torch.float32).mean(dim=1)\n",
        "    bool_acc_matrix = torch.gt(accuracy_matrix, ACCURACY_THRESH).to(torch.float32)\n",
        "\n",
        "    uncertainty_matrix = unfold(batch_pred_entropy.unsqueeze(dim=1)).mean(dim=1)\n",
        "    uncertainty_tresh = uncertainty_matrix.min()+UNCERTAINTY_THRESH*(uncertainty_matrix.max()-uncertainty_matrix.min())\n",
        "    bool_uncert_matrix = torch.gt(uncertainty_matrix, uncertainty_tresh).to(torch.float32)\n",
        "\n",
        "    acc_expanded = bool_acc_matrix.view(bool_acc_matrix.size(0),1,bool_acc_matrix.size(1)).expand(bool_acc_matrix.size(0),W_SIZE**2,bool_acc_matrix.size(1))\n",
        "    uncert_expanded = bool_uncert_matrix.view(bool_uncert_matrix.size(0),1,bool_uncert_matrix.size(1)).expand(bool_uncert_matrix.size(0),W_SIZE**2,bool_uncert_matrix.size(1))\n",
        "\n",
        "  for j in range(targets.size(0)):\n",
        "    entropy = batch_pred_entropy[j].cpu().numpy()\n",
        "    mutual = batch_mutual_info[j].cpu().numpy()\n",
        "    prediction = batch_mean[j].argmax(dim=0).cpu().numpy()\n",
        "\n",
        "    bin_acc_map = fold(acc_expanded)[j][0]\n",
        "    bin_uncert_map = fold(uncert_expanded)[j][0]\n",
        "\n",
        "    bin_inacc_certain = (1-bin_acc_map)*(1-bin_uncert_map)\n",
        "\n",
        "    document = doc[j]\n",
        "    rgbidsm = document[:5,:,:].cpu()*normalization_std+normalization_mean\n",
        "    rgb = rgbidsm[:3,:,:].cpu().div(torch.max(rgbidsm[:3,:,:])).permute(1,2,0).numpy()\n",
        "    ir = rgbidsm[1,:,:].cpu().numpy()\n",
        "    dsm = rgbidsm[2,:,:].cpu().numpy()\n",
        "\n",
        "    # data image\n",
        "    fig = plt.figure()\n",
        "    plt.subplot(131)\n",
        "    plt.imshow(rgb)\n",
        "    plt.axis('off')\n",
        "    plt.title('RGB')\n",
        "    plt.subplot(132)\n",
        "    plt.imshow(ir, cmap='Reds', norm=colors.Normalize())\n",
        "    plt.axis('off')\n",
        "    plt.title('IR')\n",
        "    plt.subplot(133)\n",
        "    plt.imshow(dsm, norm=colors.Normalize())\n",
        "    plt.axis('off')\n",
        "    plt.title('DSM')\n",
        "    plt.tight_layout()\n",
        "    plt.savefig(f'predictions/prediction{j}_input.png', bbox_inches='tight', pad_inches=0)\n",
        "    plt.close()\n",
        "\n",
        "    # prediction image\n",
        "    fig = plt.figure()\n",
        "    plt.subplot(131)\n",
        "    plt.imshow(prediction, cmap=CMAP, norm=colors.BoundaryNorm(CMAPSCALE, len(CMAPSCALE)-1), alpha=1)\n",
        "    plt.axis('off')\n",
        "    plt.title('Prediction')\n",
        "    plt.subplot(132)\n",
        "    plt.imshow(entropy, vmin=batch_pred_entropy.min().cpu().numpy(), vmax = batch_pred_entropy.max().cpu().numpy())\n",
        "    plt.axis('off')\n",
        "    plt.title('Predictive Entropy')\n",
        "    plt.subplot(133)\n",
        "    plt.imshow(mutual, vmin=batch_mutual_info.min().cpu().numpy(), vmax = batch_mutual_info.max().cpu().numpy())\n",
        "    plt.axis('off')\n",
        "    plt.title('Epistemic Uncertainty')\n",
        "    plt.tight_layout()\n",
        "    plt.savefig(f'predictions/prediction{j}_output.png', bbox_inches='tight', pad_inches=0)\n",
        "\n",
        "    if usetargets:\n",
        "      # binary maps\n",
        "      fig = plt.figure()\n",
        "      plt.subplot(231)\n",
        "      plt.imshow(mask_true[j].argmax(dim=0).numpy(), cmap=CMAP, norm=colors.BoundaryNorm(CMAPSCALE, len(CMAPSCALE)-1), alpha=1)\n",
        "      plt.axis('off')\n",
        "      plt.title('Ground truth')\n",
        "      plt.subplot(232)\n",
        "      plt.imshow(prediction, cmap=CMAP, norm=colors.BoundaryNorm(CMAPSCALE, len(CMAPSCALE)-1), alpha=1)\n",
        "      plt.axis('off')\n",
        "      plt.title('Prediction')\n",
        "      plt.subplot(234)\n",
        "      plt.imshow(bin_acc_map)\n",
        "      plt.axis('off')\n",
        "      plt.title('Accuracy (binary)')\n",
        "      plt.subplot(235)\n",
        "      plt.imshow(bin_uncert_map)\n",
        "      plt.axis('off')\n",
        "      plt.title('Uncertainty (binary)')\n",
        "      plt.subplot(236)\n",
        "      plt.imshow(bin_inacc_certain)\n",
        "      plt.axis('off')\n",
        "      plt.title('Inaccurate and certain')\n",
        "      plt.tight_layout()\n",
        "      plt.savefig(f'predictions/prediction{j}_binarymaps.png', bbox_inches='tight', pad_inches=0)\n",
        "      plt.close()\n",
        "\n",
        "\n",
        "if not os.path.exists(\"./predictions\"):\n",
        "  os.mkdir(\"./predictions\")\n",
        "\n",
        "dl = test_loader\n",
        "inputs, targets = next(iter(dl))\n",
        "\n",
        "checkpoint_path = '/content/model_epoch_10.pth'\n",
        "net.load_state_dict(torch.load(checkpoint_path, map_location=device))\n",
        "net.eval()\n",
        "\n",
        "\n",
        "unfold = torch.nn.Unfold(kernel_size=(W_SIZE, W_SIZE),stride = W_SIZE)\n",
        "fold = torch.nn.Fold(output_size=(inputs.size(2),inputs.size(3)), kernel_size=(W_SIZE, W_SIZE), stride=W_SIZE)\n",
        "\n",
        "predict(net=net, inputs=inputs, targets=targets, device=device, normalization_mean=0, normalization_std=1)"
      ]
    },
    {
      "cell_type": "code",
      "execution_count": null,
      "metadata": {
        "id": "Gi4Ji4GV8_Xh"
      },
      "outputs": [],
      "source": []
    }
  ],
  "metadata": {
    "accelerator": "GPU",
    "colab": {
      "gpuType": "T4",
      "provenance": []
    },
    "kernelspec": {
      "display_name": "Python 3",
      "name": "python3"
    },
    "language_info": {
      "name": "python"
    }
  },
  "nbformat": 4,
  "nbformat_minor": 0
}